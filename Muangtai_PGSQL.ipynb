{
  "cells": [
    {
      "cell_type": "markdown",
      "metadata": {
        "id": "view-in-github",
        "colab_type": "text"
      },
      "source": [
        "<a href=\"https://colab.research.google.com/github/thirayume/muangtai/blob/main/Muangtai_PGSQL.ipynb\" target=\"_parent\"><img src=\"https://colab.research.google.com/assets/colab-badge.svg\" alt=\"Open In Colab\"/></a>"
      ]
    },
    {
      "cell_type": "markdown",
      "metadata": {
        "id": "s3mas7LvTsym"
      },
      "source": [
        "Muangtai PostgreSQL Database export query to CSV"
      ]
    },
    {
      "cell_type": "code",
      "execution_count": null,
      "metadata": {
        "id": "RJ8yFQciT9MI"
      },
      "outputs": [],
      "source": [
        "from google.colab import drive\n",
        "drive.mount('/content/drive')"
      ]
    },
    {
      "cell_type": "code",
      "source": [
        "from google.colab import userdata\n",
        "host = userdata.get('host')\n",
        "database = userdata.get('database')\n",
        "user = userdata.get('user')\n",
        "password = userdata.get('password')"
      ],
      "metadata": {
        "id": "qCLrRhB_RtCJ"
      },
      "execution_count": null,
      "outputs": []
    },
    {
      "cell_type": "code",
      "execution_count": null,
      "metadata": {
        "id": "4w_8GsvwTulZ"
      },
      "outputs": [],
      "source": [
        "%cd '/content/drive/MyDrive/Colab Notebooks/Muangtai'"
      ]
    },
    {
      "cell_type": "code",
      "execution_count": null,
      "metadata": {
        "id": "yVSBixTwTtmR"
      },
      "outputs": [],
      "source": [
        "import psycopg2\n",
        "import pandas as pd"
      ]
    },
    {
      "cell_type": "code",
      "execution_count": null,
      "metadata": {
        "id": "JKVYx_oqXKxZ"
      },
      "outputs": [],
      "source": [
        "# Connect to the PostgreSQL database\n",
        "conn = psycopg2.connect(\n",
        "    host=host,\n",
        "    port=\"5433\",\n",
        "    database=database,\n",
        "    user=user,\n",
        "    password=password,\n",
        ")\n",
        "\n",
        "conn"
      ]
    },
    {
      "cell_type": "code",
      "execution_count": null,
      "metadata": {
        "id": "wOhGs_GMTsO8"
      },
      "outputs": [],
      "source": [
        "# Create a cursor object to execute queries\n",
        "cursor = conn.cursor()\n",
        "\n",
        "# Execute the query\n",
        "cursor.execute(\"SELECT * FROM dim_syndicates\")\n",
        "columns = [desc[0] for desc in cursor.description]\n",
        "\n",
        "# Fetch all rows from the query result\n",
        "rows = cursor.fetchall()\n",
        "\n",
        "# Create dataframe\n",
        "df = pd.DataFrame(rows, columns=columns)\n",
        "df.index =  df['id']\n",
        "\n",
        "# Convert the DataFrame to a dictionary with lists as values\n",
        "# data_dict = data_df.to_dict(orient=\"list\")\n",
        "\n",
        "# Specify the output file path\n",
        "# output_file = \"/path/to/output.csv\"\n",
        "\n",
        "# Write the query result to CSV\n",
        "# df.to_csv(output_file)\n",
        "\n",
        "# Close the cursor\n",
        "cursor.close()"
      ]
    },
    {
      "cell_type": "code",
      "execution_count": null,
      "metadata": {
        "id": "XCO8bH32tPtd"
      },
      "outputs": [],
      "source": [
        "# Close the connection\n",
        "conn.close()"
      ]
    },
    {
      "cell_type": "code",
      "execution_count": null,
      "metadata": {
        "id": "VT7KgSB_QQqo"
      },
      "outputs": [],
      "source": [
        "df.head()"
      ]
    },
    {
      "cell_type": "code",
      "execution_count": null,
      "metadata": {
        "id": "02b_k67hQQqp"
      },
      "outputs": [],
      "source": [
        "df.describe()"
      ]
    }
  ],
  "metadata": {
    "colab": {
      "provenance": [],
      "include_colab_link": true
    },
    "kernelspec": {
      "display_name": "Python 3",
      "name": "python3"
    },
    "language_info": {
      "codemirror_mode": {
        "name": "ipython",
        "version": 3
      },
      "file_extension": ".py",
      "mimetype": "text/x-python",
      "name": "python",
      "nbconvert_exporter": "python",
      "pygments_lexer": "ipython3",
      "version": "3.12.0"
    }
  },
  "nbformat": 4,
  "nbformat_minor": 0
}