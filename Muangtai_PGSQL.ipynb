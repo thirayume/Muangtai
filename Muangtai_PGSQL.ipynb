{
  "cells": [
    {
      "cell_type": "markdown",
      "metadata": {
        "id": "view-in-github",
        "colab_type": "text"
      },
      "source": [
        "<a href=\"https://colab.research.google.com/github/thirayume/muangtai/blob/main/Muangtai_PGSQL.ipynb\" target=\"_parent\"><img src=\"https://colab.research.google.com/assets/colab-badge.svg\" alt=\"Open In Colab\"/></a>"
      ]
    },
    {
      "cell_type": "markdown",
      "metadata": {
        "id": "s3mas7LvTsym"
      },
      "source": [
        "Muangtai PostgreSQL Database export query to CSV"
      ]
    },
    {
      "cell_type": "code",
      "execution_count": null,
      "metadata": {
        "colab": {
          "base_uri": "https://localhost:8080/"
        },
        "id": "RJ8yFQciT9MI",
        "outputId": "9b0f3317-589b-46a0-ce39-9ae457ef62ea"
      },
      "outputs": [
        {
          "name": "stdout",
          "output_type": "stream",
          "text": [
            "Mounted at /content/drive\n"
          ]
        }
      ],
      "source": [
        "from google.colab import drive\n",
        "drive.mount('/content/drive')"
      ]
    },
    {
      "cell_type": "code",
      "execution_count": null,
      "metadata": {
        "colab": {
          "base_uri": "https://localhost:8080/"
        },
        "id": "4w_8GsvwTulZ",
        "outputId": "53a9c6b8-3950-4f31-9824-b7109cb2a7e3"
      },
      "outputs": [
        {
          "name": "stdout",
          "output_type": "stream",
          "text": [
            "/content/drive/MyDrive/Colab Notebooks/Muangtai\n"
          ]
        }
      ],
      "source": [
        "%cd '/content/drive/MyDrive/Colab Notebooks/Muangtai'"
      ]
    },
    {
      "cell_type": "code",
      "execution_count": null,
      "metadata": {
        "id": "yVSBixTwTtmR"
      },
      "outputs": [],
      "source": [
        "import psycopg2\n",
        "import pandas as pd"
      ]
    },
    {
      "cell_type": "code",
      "execution_count": null,
      "metadata": {
        "colab": {
          "base_uri": "https://localhost:8080/",
          "height": 386
        },
        "id": "JKVYx_oqXKxZ",
        "outputId": "3e1e8684-e5dd-4faa-8b5b-d144def0d91b"
      },
      "outputs": [
        {
          "data": {
            "text/plain": [
              "<connection object at 0x00000201CD3B5250; dsn: 'user=postgres password=xxx dbname=muangtaipanit-hatyai_muangtai-online host=monthong.adiwit.co.th port=5433', closed: 0>"
            ]
          },
          "execution_count": 2,
          "metadata": {},
          "output_type": "execute_result"
        }
      ],
      "source": [
        "# Connect to the PostgreSQL database\n",
        "\n",
        "\n",
        "conn"
      ]
    },
    {
      "cell_type": "code",
      "execution_count": null,
      "metadata": {
        "id": "wOhGs_GMTsO8"
      },
      "outputs": [],
      "source": [
        "# Create a cursor object to execute queries\n",
        "cursor = conn.cursor()\n",
        "\n",
        "# Execute the query\n",
        "cursor.execute(\"SELECT * FROM dim_syndicates\")\n",
        "columns = [desc[0] for desc in cursor.description]\n",
        "\n",
        "# Fetch all rows from the query result\n",
        "rows = cursor.fetchall()\n",
        "\n",
        "# Create dataframe\n",
        "df = pd.DataFrame(rows, columns=columns)\n",
        "df.index =  df['id']\n",
        "\n",
        "# Convert the DataFrame to a dictionary with lists as values\n",
        "# data_dict = data_df.to_dict(orient=\"list\")\n",
        "\n",
        "# Specify the output file path\n",
        "# output_file = \"/path/to/output.csv\"\n",
        "\n",
        "# Write the query result to CSV\n",
        "# df.to_csv(output_file)\n",
        "\n",
        "# Close the cursor\n",
        "cursor.close()"
      ]
    },
    {
      "cell_type": "code",
      "execution_count": null,
      "metadata": {
        "id": "XCO8bH32tPtd"
      },
      "outputs": [],
      "source": [
        "# Close the connection\n",
        "conn.close()"
      ]
    },
    {
      "cell_type": "code",
      "execution_count": null,
      "metadata": {
        "id": "VT7KgSB_QQqo",
        "outputId": "a8972cdc-b93a-4c38-f6e2-c3bdc51fc5ab"
      },
      "outputs": [
        {
          "data": {
            "text/html": [
              "<div>\n",
              "<style scoped>\n",
              "    .dataframe tbody tr th:only-of-type {\n",
              "        vertical-align: middle;\n",
              "    }\n",
              "\n",
              "    .dataframe tbody tr th {\n",
              "        vertical-align: top;\n",
              "    }\n",
              "\n",
              "    .dataframe thead th {\n",
              "        text-align: right;\n",
              "    }\n",
              "</style>\n",
              "<table border=\"1\" class=\"dataframe\">\n",
              "  <thead>\n",
              "    <tr style=\"text-align: right;\">\n",
              "      <th></th>\n",
              "      <th>id</th>\n",
              "      <th>description</th>\n",
              "      <th>name_english</th>\n",
              "      <th>name_thai</th>\n",
              "      <th>created_at</th>\n",
              "      <th>updated_at</th>\n",
              "      <th>deleted_at</th>\n",
              "    </tr>\n",
              "    <tr>\n",
              "      <th>id</th>\n",
              "      <th></th>\n",
              "      <th></th>\n",
              "      <th></th>\n",
              "      <th></th>\n",
              "      <th></th>\n",
              "      <th></th>\n",
              "      <th></th>\n",
              "    </tr>\n",
              "  </thead>\n",
              "  <tbody>\n",
              "    <tr>\n",
              "      <th>43666aa9-17ca-4b2e-870d-79ef49d6be33</th>\n",
              "      <td>43666aa9-17ca-4b2e-870d-79ef49d6be33</td>\n",
              "      <td>None</td>\n",
              "      <td>None</td>\n",
              "      <td>เมืองใต้พาณิชย์</td>\n",
              "      <td>2023-09-04 21:28:48</td>\n",
              "      <td>2023-09-04 21:28:48</td>\n",
              "      <td>None</td>\n",
              "    </tr>\n",
              "  </tbody>\n",
              "</table>\n",
              "</div>"
            ],
            "text/plain": [
              "                                                                        id  \\\n",
              "id                                                                           \n",
              "43666aa9-17ca-4b2e-870d-79ef49d6be33  43666aa9-17ca-4b2e-870d-79ef49d6be33   \n",
              "\n",
              "                                     description name_english  \\\n",
              "id                                                              \n",
              "43666aa9-17ca-4b2e-870d-79ef49d6be33        None         None   \n",
              "\n",
              "                                            name_thai          created_at  \\\n",
              "id                                                                          \n",
              "43666aa9-17ca-4b2e-870d-79ef49d6be33  เมืองใต้พาณิชย์ 2023-09-04 21:28:48   \n",
              "\n",
              "                                              updated_at deleted_at  \n",
              "id                                                                   \n",
              "43666aa9-17ca-4b2e-870d-79ef49d6be33 2023-09-04 21:28:48       None  "
            ]
          },
          "execution_count": 6,
          "metadata": {},
          "output_type": "execute_result"
        }
      ],
      "source": [
        "df.head()"
      ]
    },
    {
      "cell_type": "code",
      "execution_count": null,
      "metadata": {
        "id": "02b_k67hQQqp",
        "outputId": "929620f6-55bb-4585-eeef-32906751e096"
      },
      "outputs": [
        {
          "data": {
            "text/html": [
              "<div>\n",
              "<style scoped>\n",
              "    .dataframe tbody tr th:only-of-type {\n",
              "        vertical-align: middle;\n",
              "    }\n",
              "\n",
              "    .dataframe tbody tr th {\n",
              "        vertical-align: top;\n",
              "    }\n",
              "\n",
              "    .dataframe thead th {\n",
              "        text-align: right;\n",
              "    }\n",
              "</style>\n",
              "<table border=\"1\" class=\"dataframe\">\n",
              "  <thead>\n",
              "    <tr style=\"text-align: right;\">\n",
              "      <th></th>\n",
              "      <th>created_at</th>\n",
              "      <th>updated_at</th>\n",
              "    </tr>\n",
              "  </thead>\n",
              "  <tbody>\n",
              "    <tr>\n",
              "      <th>count</th>\n",
              "      <td>1</td>\n",
              "      <td>1</td>\n",
              "    </tr>\n",
              "    <tr>\n",
              "      <th>mean</th>\n",
              "      <td>2023-09-04 21:28:48</td>\n",
              "      <td>2023-09-04 21:28:48</td>\n",
              "    </tr>\n",
              "    <tr>\n",
              "      <th>min</th>\n",
              "      <td>2023-09-04 21:28:48</td>\n",
              "      <td>2023-09-04 21:28:48</td>\n",
              "    </tr>\n",
              "    <tr>\n",
              "      <th>25%</th>\n",
              "      <td>2023-09-04 21:28:48</td>\n",
              "      <td>2023-09-04 21:28:48</td>\n",
              "    </tr>\n",
              "    <tr>\n",
              "      <th>50%</th>\n",
              "      <td>2023-09-04 21:28:48</td>\n",
              "      <td>2023-09-04 21:28:48</td>\n",
              "    </tr>\n",
              "    <tr>\n",
              "      <th>75%</th>\n",
              "      <td>2023-09-04 21:28:48</td>\n",
              "      <td>2023-09-04 21:28:48</td>\n",
              "    </tr>\n",
              "    <tr>\n",
              "      <th>max</th>\n",
              "      <td>2023-09-04 21:28:48</td>\n",
              "      <td>2023-09-04 21:28:48</td>\n",
              "    </tr>\n",
              "  </tbody>\n",
              "</table>\n",
              "</div>"
            ],
            "text/plain": [
              "                created_at           updated_at\n",
              "count                    1                    1\n",
              "mean   2023-09-04 21:28:48  2023-09-04 21:28:48\n",
              "min    2023-09-04 21:28:48  2023-09-04 21:28:48\n",
              "25%    2023-09-04 21:28:48  2023-09-04 21:28:48\n",
              "50%    2023-09-04 21:28:48  2023-09-04 21:28:48\n",
              "75%    2023-09-04 21:28:48  2023-09-04 21:28:48\n",
              "max    2023-09-04 21:28:48  2023-09-04 21:28:48"
            ]
          },
          "execution_count": 7,
          "metadata": {},
          "output_type": "execute_result"
        }
      ],
      "source": [
        "df.describe()"
      ]
    }
  ],
  "metadata": {
    "colab": {
      "provenance": [],
      "include_colab_link": true
    },
    "kernelspec": {
      "display_name": "Python 3",
      "name": "python3"
    },
    "language_info": {
      "codemirror_mode": {
        "name": "ipython",
        "version": 3
      },
      "file_extension": ".py",
      "mimetype": "text/x-python",
      "name": "python",
      "nbconvert_exporter": "python",
      "pygments_lexer": "ipython3",
      "version": "3.12.0"
    }
  },
  "nbformat": 4,
  "nbformat_minor": 0
}