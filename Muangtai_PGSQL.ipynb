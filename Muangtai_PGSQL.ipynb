{
  "cells": [
    {
      "cell_type": "markdown",
      "metadata": {
        "id": "view-in-github",
        "colab_type": "text"
      },
      "source": [
        "<a href=\"https://colab.research.google.com/github/thirayume/muangtai/blob/main/Muangtai_PGSQL.ipynb\" target=\"_parent\"><img src=\"https://colab.research.google.com/assets/colab-badge.svg\" alt=\"Open In Colab\"/></a>"
      ]
    },
    {
      "cell_type": "markdown",
      "metadata": {
        "id": "s3mas7LvTsym"
      },
      "source": [
        "### **Muangtai PostgreSQL Database export query to CSV**"
      ]
    },
    {
      "cell_type": "code",
      "execution_count": null,
      "metadata": {
        "id": "RJ8yFQciT9MI"
      },
      "outputs": [],
      "source": [
        "# @title Mount Google Drive (if need)\n",
        "\n",
        "from google.colab import drive\n",
        "drive.mount('/content/drive')"
      ]
    },
    {
      "cell_type": "code",
      "source": [
        "# @title Define secrets\n",
        "\n",
        "from google.colab import userdata\n",
        "host = userdata.get('host')\n",
        "port = userdata.get('port')\n",
        "database = userdata.get('database')\n",
        "user = userdata.get('user')\n",
        "password = userdata.get('password')"
      ],
      "metadata": {
        "id": "qCLrRhB_RtCJ"
      },
      "execution_count": null,
      "outputs": []
    },
    {
      "cell_type": "code",
      "source": [
        "# @title Install dependencies (if need)\n",
        "\n",
        "!pip install psycopg2 pandas"
      ],
      "metadata": {
        "cellView": "form",
        "id": "v7fvZYzJMbtb"
      },
      "execution_count": null,
      "outputs": []
    },
    {
      "cell_type": "code",
      "execution_count": null,
      "metadata": {
        "id": "yVSBixTwTtmR"
      },
      "outputs": [],
      "source": [
        "# @title Import dependencies\n",
        "\n",
        "import psycopg2\n",
        "\n",
        "import numpy as np\n",
        "import pandas as pd\n",
        "from pandas import plotting\n",
        "\n",
        "import matplotlib.pyplot as plt\n",
        "import seaborn as sns\n",
        "plt.style.use('fivethirtyeight')\n",
        "\n",
        "import plotly as py\n",
        "import plotly.graph_objs as go\n",
        "py.offline.init_notebook_mode(connected = True)\n",
        "\n",
        "from sklearn.cluster import KMeans\n",
        "import fastai\n",
        "\n",
        "import warnings\n",
        "import os\n",
        "from pathlib import Path\n",
        "warnings.filterwarnings(\"ignore\")"
      ]
    },
    {
      "cell_type": "code",
      "execution_count": null,
      "metadata": {
        "id": "4w_8GsvwTulZ"
      },
      "outputs": [],
      "source": [
        "# @title Define data path\n",
        "\n",
        "data_path = Path('/content/drive/MyDrive/Colab Notebooks/Muangtai')\n",
        "\n",
        "%cd {data_path}\n",
        "%ls"
      ]
    },
    {
      "cell_type": "code",
      "execution_count": null,
      "metadata": {
        "id": "JKVYx_oqXKxZ",
        "cellView": "form"
      },
      "outputs": [],
      "source": [
        "# @title Connect to the PostgreSQL database\n",
        "\n",
        "conn = psycopg2.connect(\n",
        "    host=host,\n",
        "    port=port,\n",
        "    database=database,\n",
        "    user=user,\n",
        "    password=password,\n",
        ")\n",
        "conn"
      ]
    },
    {
      "cell_type": "code",
      "source": [
        "# @title Define a SQL to create a \"view_picking_list\" (if not found)\n",
        "\n",
        "sql = '''\n",
        "DROP VIEW IF EXISTS view_fact_picking_lists;\n",
        "\n",
        "CREATE OR REPLACE VIEW view_fact_picking_lists\n",
        "AS\n",
        "\n",
        "select\n",
        "fact_picking_lists.id as fact_picking_lists__id\n",
        ",dim_dates.\"year\" || '-' || dim_dates.\"month\" || '-' || dim_dates.\"date\" as fact_picking_lists__date\n",
        ",to_char((LPAD((dim_times.hour_of_day || ''), 2, '0') || '' || LPAD((dim_times.minute_of_hour || ''), 2, '0') || '00')::time,'HH24:MI:SS AM') as fact_picking_lists__time\n",
        ",GREATEST(\n",
        "    dim_picking_lists.created_at,\n",
        "    dim_picking_lists.updated_at,\n",
        "    dim_picking_lists.moderated_at, (\n",
        "    dim_picking_lists.document_date + '08:30:01'::time)\n",
        ") as lasted_updated_at\n",
        ",dim_picking_lists.document_number as dim_picking_lists__document_number\n",
        ",dim_picking_lists.id as dim_picking_lists__id\n",
        ",dim_stock_keeping_units.id as dim_stock_keeping_units__sku_id\n",
        ",fact_picking_lists.quantity as fact_picking_lists__quantity\n",
        ", (fact_picking_lists.quantity  * multiply_hierarchy_unit_quantity(fact_picking_lists.stock_keeping_unit_id)) as liters\n",
        ",dim_families.is_alcoholic as dim_families__is_alcoholic\n",
        ",dim_picking_lists.owner_id as dim_picking_lists__owner_id\n",
        ",dim_picking_lists.owner_type as dim_picking_lists__owner_type\n",
        "\n",
        "from\t\tfact_picking_lists\n",
        "inner join\tdim_dates on dim_dates.id = fact_picking_lists.date_id\n",
        "inner join\tdim_times on dim_times.id = fact_picking_lists.time_id\n",
        "inner join\tdim_families on dim_families.id = fact_picking_lists.family_id\n",
        "inner join\tdim_brands on dim_brands.id = dim_families.brand_id\n",
        "inner join \tdim_picking_lists on dim_picking_lists.id = fact_picking_lists.picking_list_id\n",
        "inner join \tdim_stock_keeping_units on dim_stock_keeping_units.id = fact_picking_lists.stock_keeping_unit_id\n",
        "where fact_picking_lists.deleted_at is null\n",
        "and dim_picking_lists.moderation_status = 1 -- Approved\n",
        "and fact_picking_lists.direction = 'outbound'\n",
        "order by  fact_picking_lists.id desc\n",
        "'''"
      ],
      "metadata": {
        "cellView": "form",
        "id": "qAuWIZL0LUUK"
      },
      "execution_count": null,
      "outputs": []
    },
    {
      "cell_type": "code",
      "source": [
        "# @title Define a SQL query to select data from a \"fact_picking_lists\" like in a View\n",
        "\n",
        "sql = \"\"\"\\\n",
        "      SELECT * FROM fact_picking_lists;\n",
        "\"\"\"\n",
        "\n",
        "\n",
        "# select\n",
        "# fact_picking_lists.id as fact_picking_lists__id\n",
        "# ,dim_dates.\"year\" || '-' || dim_dates.\"month\" || '-' || dim_dates.\"date\" as fact_picking_lists__date\n",
        "# ,to_char((LPAD((dim_times.hour_of_day || ''), 2, '0') || '' || LPAD((dim_times.minute_of_hour || ''), 2, '0') || '00')::time,'HH24:MI:SS AM') as fact_picking_lists__time\n",
        "# ,GREATEST(\n",
        "#     dim_picking_lists.created_at,\n",
        "#     dim_picking_lists.updated_at,\n",
        "#     dim_picking_lists.moderated_at, (\n",
        "#     dim_picking_lists.document_date + '08:30:01'::time)\n",
        "# ) as lasted_updated_at\n",
        "# ,dim_picking_lists.document_number as dim_picking_lists__document_number\n",
        "# ,dim_picking_lists.id as dim_picking_lists__id\n",
        "# ,dim_stock_keeping_units.id as dim_stock_keeping_units__sku_id\n",
        "# ,fact_picking_lists.quantity as fact_picking_lists__quantity\n",
        "# -- , (fact_picking_lists.quantity  * multiply_hierarchy_unit_quantity(fact_picking_lists.stock_keeping_unit_id)) as liters\n",
        "# ,dim_families.is_alcoholic as dim_families__is_alcoholic\n",
        "# ,dim_picking_lists.owner_id as dim_picking_lists__owner_id\n",
        "# ,dim_picking_lists.owner_type as dim_picking_lists__owner_type\n",
        "# from\t\tfact_picking_lists\n",
        "# inner join\tdim_dates on dim_dates.id = fact_picking_lists.date_id\n",
        "# inner join\tdim_times on dim_times.id = fact_picking_lists.time_id\n",
        "# inner join\tdim_families on dim_families.id = fact_picking_lists.family_id\n",
        "# inner join\tdim_brands on dim_brands.id = dim_families.brand_id\n",
        "# inner join \tdim_picking_lists on dim_picking_lists.id = fact_picking_lists.picking_list_id\n",
        "# inner join \tdim_stock_keeping_units on dim_stock_keeping_units.id = fact_picking_lists.stock_keeping_unit_id\n",
        "# where fact_picking_lists.deleted_at is null\n",
        "# and dim_picking_lists.moderation_status = 1 -- Approved\n",
        "# and fact_picking_lists.direction = 'outbound'\n",
        "# order by  fact_picking_lists.id desc"
      ],
      "metadata": {
        "id": "hSXEpMKPM80g"
      },
      "execution_count": null,
      "outputs": []
    },
    {
      "cell_type": "code",
      "source": [
        "sql"
      ],
      "metadata": {
        "id": "ebi7KbI7QvK4"
      },
      "execution_count": null,
      "outputs": []
    },
    {
      "cell_type": "code",
      "execution_count": null,
      "metadata": {
        "id": "wOhGs_GMTsO8"
      },
      "outputs": [],
      "source": [
        "# @title Create a cursor object to execute queries to dataframe\n",
        "\n",
        "with conn.cursor() as cursor:\n",
        "  # Execute the query\n",
        "  cursor.execute(\"\"\"\n",
        "                  SELECT * FROM audits\n",
        "                 \"\"\")\n",
        "  columns = [desc[0] for desc in cursor.description]\n",
        "  # Fetch all rows from the query result\n",
        "  rows = cursor.fetchall()\n",
        "\n",
        "  # Create dataframe\n",
        "  df = pd.DataFrame(rows, columns=columns)\n",
        "  # df.index =  df['fact_picking_lists__id']\n",
        "\n",
        "  # # Close the cursor\n",
        "  # cursor.close()"
      ]
    },
    {
      "cell_type": "code",
      "source": [
        "df.head(5)"
      ],
      "metadata": {
        "id": "_KjaBmhcSQ3j"
      },
      "execution_count": null,
      "outputs": []
    },
    {
      "cell_type": "code",
      "source": [
        "# @title Save to csv for local work\n",
        "\n",
        "# Convert the DataFrame to a dictionary with lists as values\n",
        "data_dict = df.to_dict(orient=\"list\")\n",
        "\n",
        "# Specify the output file path\n",
        "output_file = data_path/\"output.csv\"\n",
        "\n",
        "# Write the query result to CSV\n",
        "df.to_csv(output_file)"
      ],
      "metadata": {
        "cellView": "form",
        "id": "_FMrdc5aNwBj"
      },
      "execution_count": null,
      "outputs": []
    },
    {
      "cell_type": "code",
      "execution_count": null,
      "metadata": {
        "id": "XCO8bH32tPtd"
      },
      "outputs": [],
      "source": [
        "# Close the connection\n",
        "conn.close()"
      ]
    },
    {
      "cell_type": "code",
      "execution_count": null,
      "metadata": {
        "id": "VT7KgSB_QQqo"
      },
      "outputs": [],
      "source": [
        "df.head(10)"
      ]
    },
    {
      "cell_type": "code",
      "execution_count": null,
      "metadata": {
        "id": "02b_k67hQQqp"
      },
      "outputs": [],
      "source": [
        "df.describe()"
      ]
    }
  ],
  "metadata": {
    "colab": {
      "provenance": [],
      "include_colab_link": true
    },
    "kernelspec": {
      "display_name": "Python 3",
      "name": "python3"
    },
    "language_info": {
      "codemirror_mode": {
        "name": "ipython",
        "version": 3
      },
      "file_extension": ".py",
      "mimetype": "text/x-python",
      "name": "python",
      "nbconvert_exporter": "python",
      "pygments_lexer": "ipython3",
      "version": "3.12.0"
    }
  },
  "nbformat": 4,
  "nbformat_minor": 0
}