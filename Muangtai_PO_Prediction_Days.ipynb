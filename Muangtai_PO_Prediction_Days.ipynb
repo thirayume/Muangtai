{
  "cells": [
    {
      "cell_type": "markdown",
      "metadata": {
        "id": "view-in-github",
        "colab_type": "text"
      },
      "source": [
        "<a href=\"https://colab.research.google.com/github/thirayume/muangtai/blob/main/Muangtai_PO_Prediction_Days.ipynb\" target=\"_parent\"><img src=\"https://colab.research.google.com/assets/colab-badge.svg\" alt=\"Open In Colab\"/></a>"
      ]
    },
    {
      "cell_type": "markdown",
      "metadata": {
        "id": "s3mas7LvTsym"
      },
      "source": [
        "### **Muangtai PostgreSQL Database export query to CSV**"
      ]
    },
    {
      "cell_type": "code",
      "source": [
        "# @title Define secrets\n",
        "\n",
        "from google.colab import userdata\n",
        "host = userdata.get('host')\n",
        "port = userdata.get('port')\n",
        "database = userdata.get('database')\n",
        "user = userdata.get('user')\n",
        "password = userdata.get('password')"
      ],
      "metadata": {
        "id": "qCLrRhB_RtCJ"
      },
      "execution_count": null,
      "outputs": []
    },
    {
      "cell_type": "code",
      "source": [
        "# @title Install dependencies (if need)\n",
        "\n",
        "!pip install psycopg2 pandas pmdarima"
      ],
      "metadata": {
        "id": "v7fvZYzJMbtb"
      },
      "execution_count": null,
      "outputs": []
    },
    {
      "cell_type": "code",
      "execution_count": null,
      "metadata": {
        "id": "yVSBixTwTtmR"
      },
      "outputs": [],
      "source": [
        "# @title Import dependencies\n",
        "\n",
        "import psycopg2\n",
        "\n",
        "from datetime import datetime\n",
        "\n",
        "import numpy as np\n",
        "import pandas as pd\n",
        "from pandas import plotting\n",
        "\n",
        "import matplotlib.pyplot as plt\n",
        "%matplotlib inline\n",
        "from matplotlib.pylab import rcParams\n",
        "import seaborn as sns\n",
        "\n",
        "import plotly as py\n",
        "import plotly.graph_objs as go\n",
        "py.offline.init_notebook_mode(connected = True)\n",
        "\n",
        "import fastai\n",
        "\n",
        "import warnings\n",
        "import os\n",
        "from pathlib import Path\n",
        "warnings.filterwarnings(\"ignore\")\n",
        "\n",
        "import torch\n",
        "import torch.nn as nn\n",
        "from torch.autograd import Variable\n",
        "\n",
        "import pmdarima as pm\n",
        "\n",
        "from statsmodels.tsa.statespace.sarimax import SARIMAX\n",
        "from statsmodels.tsa.seasonal import seasonal_decompose\n",
        "from statsmodels.tsa.stattools import adfuller\n",
        "from statsmodels.graphics.tsaplots import plot_acf, plot_pacf\n",
        "\n",
        "from sklearn.cluster import KMeans\n",
        "from sklearn.preprocessing import MinMaxScaler\n",
        "from sklearn.metrics import mean_squared_error\n",
        "\n",
        "from math import sqrt\n",
        "\n",
        "# plt.style.use('fivethirtyeight')\n",
        "plt.style.use(\"seaborn-whitegrid\")\n",
        "plt.rc(\"figure\", autolayout = True)\n",
        "plt.rc(\"axes\", labelweight = \"bold\", labelsize = \"large\", titleweight = \"bold\", titlesize = 12, titlepad = 10)"
      ]
    },
    {
      "cell_type": "code",
      "execution_count": null,
      "metadata": {
        "id": "JKVYx_oqXKxZ"
      },
      "outputs": [],
      "source": [
        "# @title Connect to the PostgreSQL database\n",
        "\n",
        "conn = psycopg2.connect(\n",
        "    host=host,\n",
        "    port=port,\n",
        "    database=database,\n",
        "    user=user,\n",
        "    password=password,\n",
        ")\n",
        "conn"
      ]
    },
    {
      "cell_type": "code",
      "source": [
        "# @title Define a SQL to create a \"view_picking_list\" (if not found)\n",
        "\n",
        "sql = \"\"\"\n",
        "      DROP VIEW IF EXISTS view_fact_picking_lists;\n",
        "\n",
        "      CREATE OR REPLACE VIEW view_fact_picking_lists\n",
        "      AS\n",
        "      select\n",
        "                   fact_picking_lists.id as fact_picking_lists__id\n",
        "                  ,dim_dates.\"year\" || '-' || dim_dates.\"month\" || '-' || dim_dates.\"date\" as fact_picking_lists__date\n",
        "                  ,to_char((LPAD((dim_times.hour_of_day || ''), 2, '0') || '' || LPAD((dim_times.minute_of_hour || ''), 2, '0') || '00')::time,'HH24:MI:SS') as fact_picking_lists__time\n",
        "                  ,GREATEST(\n",
        "                      dim_picking_lists.created_at,\n",
        "                      dim_picking_lists.updated_at,\n",
        "                      dim_picking_lists.moderated_at, (\n",
        "                      dim_picking_lists.document_date + '08:30:01'::time)\n",
        "                  ) as lasted_updated_at\n",
        "                  ,dim_picking_lists.document_number as dim_picking_lists__document_number\n",
        "                  ,dim_picking_lists.id as dim_picking_lists__id\n",
        "                  ,dim_stock_keeping_units.id as dim_stock_keeping_units__sku_id\n",
        "                  ,fact_picking_lists.quantity as fact_picking_lists__quantity\n",
        "                  -- , (fact_picking_lists.quantity  * multiply_hierarchy_unit_quantity(fact_picking_lists.stock_keeping_unit_id)) as liters\n",
        "                  ,dim_families.is_alcoholic as dim_families__is_alcoholic\n",
        "                  ,dim_picking_lists.owner_id as dim_picking_lists__owner_id\n",
        "                  ,dim_picking_lists.owner_type as dim_picking_lists__owner_type\n",
        "      from\t\t    fact_picking_lists\n",
        "      inner join\tdim_dates on dim_dates.id = fact_picking_lists.date_id\n",
        "      inner join\tdim_times on dim_times.id = fact_picking_lists.time_id\n",
        "      inner join\tdim_families on dim_families.id = fact_picking_lists.family_id\n",
        "      inner join\tdim_brands on dim_brands.id = dim_families.brand_id\n",
        "      inner join \tdim_picking_lists on dim_picking_lists.id = fact_picking_lists.picking_list_id\n",
        "      inner join \tdim_stock_keeping_units on dim_stock_keeping_units.id = fact_picking_lists.stock_keeping_unit_id\n",
        "      where       fact_picking_lists.deleted_at is null\n",
        "      and         dim_picking_lists.moderation_status = 1 -- Approved\n",
        "      and         fact_picking_lists.direction = 'outbound'\n",
        "      order by    fact_picking_lists.id desc\n",
        "      \"\"\""
      ],
      "metadata": {
        "id": "qAuWIZL0LUUK"
      },
      "execution_count": null,
      "outputs": []
    },
    {
      "cell_type": "code",
      "source": [
        "# @title Define a SQL query to select data from a \"fact_picking_lists\" like in a View\n",
        "\n",
        "sql = \"\"\"\n",
        "      select\n",
        "                   fact_picking_lists.id as fact_picking_lists__id\n",
        "                  ,dim_dates.\"year\" || '-' || dim_dates.\"month\" || '-' || dim_dates.\"date\" as fact_picking_lists__date\n",
        "                  ,to_char((LPAD((dim_times.hour_of_day || ''), 2, '0') || '' || LPAD((dim_times.minute_of_hour || ''), 2, '0') || '00')::time,'HH24:MI:SS') as fact_picking_lists__time\n",
        "                  ,GREATEST(\n",
        "                      dim_picking_lists.created_at,\n",
        "                      dim_picking_lists.updated_at,\n",
        "                      dim_picking_lists.moderated_at, (\n",
        "                      dim_picking_lists.document_date + '08:30:01'::time)\n",
        "                  ) as lasted_updated_at\n",
        "                  ,dim_picking_lists.document_number as dim_picking_lists__document_number\n",
        "                  ,dim_picking_lists.id as dim_picking_lists__id\n",
        "                  ,dim_stock_keeping_units.id as dim_stock_keeping_units__sku_id\n",
        "                  ,fact_picking_lists.quantity as fact_picking_lists__quantity\n",
        "                  -- , (fact_picking_lists.quantity  * multiply_hierarchy_unit_quantity(fact_picking_lists.stock_keeping_unit_id)) as liters\n",
        "                  ,dim_families.is_alcoholic as dim_families__is_alcoholic\n",
        "                  ,dim_picking_lists.owner_id as dim_picking_lists__owner_id\n",
        "                  ,dim_picking_lists.owner_type as dim_picking_lists__owner_type\n",
        "      from\t\t    fact_picking_lists\n",
        "      inner join\tdim_dates on dim_dates.id = fact_picking_lists.date_id\n",
        "      inner join\tdim_times on dim_times.id = fact_picking_lists.time_id\n",
        "      inner join\tdim_families on dim_families.id = fact_picking_lists.family_id\n",
        "      inner join\tdim_brands on dim_brands.id = dim_families.brand_id\n",
        "      inner join \tdim_picking_lists on dim_picking_lists.id = fact_picking_lists.picking_list_id\n",
        "      inner join \tdim_stock_keeping_units on dim_stock_keeping_units.id = fact_picking_lists.stock_keeping_unit_id\n",
        "      where       fact_picking_lists.deleted_at is null\n",
        "      and         dim_picking_lists.moderation_status = 1 -- Approved\n",
        "      and         fact_picking_lists.direction = 'outbound'\n",
        "      order by    fact_picking_lists.id desc\n",
        "      \"\"\""
      ],
      "metadata": {
        "id": "hSXEpMKPM80g"
      },
      "execution_count": null,
      "outputs": []
    },
    {
      "cell_type": "code",
      "execution_count": null,
      "metadata": {
        "id": "wOhGs_GMTsO8",
        "cellView": "form"
      },
      "outputs": [],
      "source": [
        "# @title Create a cursor object to execute queries to dataframe\n",
        "\n",
        "with conn.cursor() as cursor:\n",
        "  # Execute the query\n",
        "  cursor.execute(sql)\n",
        "  columns = [desc[0] for desc in cursor.description]\n",
        "  # Fetch all rows from the query result\n",
        "  rows = cursor.fetchall()\n",
        "\n",
        "  # Create dataframe\n",
        "  df = pd.DataFrame(rows, columns=columns)"
      ]
    },
    {
      "cell_type": "code",
      "source": [
        "# @title Close the connection\n",
        "conn.close()"
      ],
      "metadata": {
        "id": "8gLq9FPLUyK5"
      },
      "execution_count": null,
      "outputs": []
    },
    {
      "cell_type": "code",
      "source": [
        "# @title Format Date and Time and Index\n",
        "\n",
        "df['fact_picking_lists__podatetime'] = pd.to_datetime( df['fact_picking_lists__date']  + ' ' + df['fact_picking_lists__time'], infer_datetime_format=True)\n",
        "df['lasted_updated_at'] = pd.to_datetime(df['lasted_updated_at'], infer_datetime_format = True)\n",
        "df['fact_picking_lists__date'] = pd.to_datetime(df['lasted_updated_at'], infer_datetime_format = True)"
      ],
      "metadata": {
        "id": "KsY_2VphWH8a"
      },
      "execution_count": null,
      "outputs": []
    },
    {
      "cell_type": "code",
      "source": [
        "df = df.loc[:, ~df.columns.str.contains('^Unnamed')]"
      ],
      "metadata": {
        "id": "rVhpSeaReucL"
      },
      "execution_count": null,
      "outputs": []
    },
    {
      "cell_type": "code",
      "source": [
        "df.head(5)"
      ],
      "metadata": {
        "id": "_KjaBmhcSQ3j"
      },
      "execution_count": null,
      "outputs": []
    },
    {
      "cell_type": "code",
      "execution_count": null,
      "metadata": {
        "id": "02b_k67hQQqp"
      },
      "outputs": [],
      "source": [
        "df.describe()"
      ]
    },
    {
      "cell_type": "code",
      "source": [
        "df.info()"
      ],
      "metadata": {
        "id": "INSprVuVcIbK"
      },
      "execution_count": null,
      "outputs": []
    },
    {
      "cell_type": "code",
      "source": [
        "df.isnull().sum()"
      ],
      "metadata": {
        "id": "vGXouqfCdGbY"
      },
      "execution_count": null,
      "outputs": []
    },
    {
      "cell_type": "code",
      "source": [
        "sku_ids = df['dim_stock_keeping_units__sku_id'].unique()\n",
        "print(sorted(sku_ids))"
      ],
      "metadata": {
        "id": "MBjSQLFegUh2"
      },
      "execution_count": null,
      "outputs": []
    },
    {
      "cell_type": "code",
      "source": [
        "# @title Pivot SKU Sales by Month\n",
        "pd.set_option(\"display.float_format\", \"{:,.0f}\".format)\n",
        "\n",
        "# df['month'] = df['fact_picking_lists__date'].dt.month.astype(str) + '-' + df['fact_picking_lists__date'].dt.year.astype(str)\n",
        "# df['month'] = df['fact_picking_lists__podatetime'].dt.month.astype(str) + '-' + df['fact_picking_lists__podatetime'].dt.year.astype(str)\n",
        "df['month'] = df['lasted_updated_at'].dt.month.astype(str) + '-' + df['lasted_updated_at'].dt.year.astype(str)\n",
        "df['month'] = pd.to_datetime(df['month'], infer_datetime_format = True)\n",
        "\n",
        "pivot = df.pivot_table(\n",
        "    values='fact_picking_lists__quantity',\n",
        "    index=['dim_stock_keeping_units__sku_id'],\n",
        "    columns=['month'],\n",
        "    aggfunc='sum',\n",
        "    margins = True,\n",
        "    fill_value = '0'\n",
        ")\n",
        "pivot = pivot.sort_values(by=['All'], ascending=False)\n",
        "pivot"
      ],
      "metadata": {
        "id": "j8V_9vdqhgsH"
      },
      "execution_count": null,
      "outputs": []
    },
    {
      "cell_type": "code",
      "source": [
        "pivot.T"
      ],
      "metadata": {
        "id": "5Et1O93234sp"
      },
      "execution_count": null,
      "outputs": []
    },
    {
      "cell_type": "code",
      "source": [
        "sorted_sku = []\n",
        "for sku, qty in pivot.iterrows():\n",
        "  sorted_sku.append(sku)\n",
        "sorted_sku.pop(0)"
      ],
      "metadata": {
        "id": "KVsoBK1V956q"
      },
      "execution_count": null,
      "outputs": []
    },
    {
      "cell_type": "code",
      "source": [
        "def plot_by_SKUs(sku_df):\n",
        "  for i in range(len(sku_df)):\n",
        "    print(sku_df[i])\n",
        "    plt.figure(figsize=(6,3))\n",
        "    my_df = pivot.T[sku_df[i]]\n",
        "    my_df.drop(my_df.tail(1).index,inplace=True)\n",
        "    my_df.astype(float).plot()\n",
        "    plt.title(sku_df[i])\n",
        "    plt.tight_layout()\n",
        "    plt.show()"
      ],
      "metadata": {
        "id": "EbR8EruAu8mH"
      },
      "execution_count": null,
      "outputs": []
    },
    {
      "cell_type": "code",
      "source": [
        "sample = sorted_sku[0:1]\n",
        "plot_by_SKUs(sample)"
      ],
      "metadata": {
        "id": "oyNXx43WuO86"
      },
      "execution_count": null,
      "outputs": []
    },
    {
      "cell_type": "code",
      "source": [
        "def mape(actual, pred):\n",
        "    actual, pred = np.array(actual), np.array(pred)\n",
        "    return np.mean(np.abs((actual - pred) / actual)) * 100"
      ],
      "metadata": {
        "id": "XeiemI-VUbBp"
      },
      "execution_count": null,
      "outputs": []
    },
    {
      "cell_type": "code",
      "source": [
        "sample_sku = sorted_sku[0:1]\n",
        "sample_sku"
      ],
      "metadata": {
        "id": "goKH50os2vAE"
      },
      "execution_count": null,
      "outputs": []
    },
    {
      "cell_type": "code",
      "source": [
        "sample_df = pivot.T[sample_sku].reset_index()\n",
        "sample_df.drop(sample_df.tail(1).index, inplace=True)\n",
        "sample_df.columns = ['month', 'qty']\n",
        "sample_df['month'] = pd.to_datetime(sample_df['month'], infer_datetime_format = True)\n",
        "sample_df = sample_df.set_index(['month'])\n",
        "sample_df"
      ],
      "metadata": {
        "id": "_nrn94y8EcYW"
      },
      "execution_count": null,
      "outputs": []
    },
    {
      "cell_type": "code",
      "source": [
        "sample_df.info()"
      ],
      "metadata": {
        "id": "BWwT7t0LEPP2"
      },
      "execution_count": null,
      "outputs": []
    },
    {
      "cell_type": "code",
      "source": [
        "plt.figure(figsize = (15, 7))\n",
        "plt.title(\"Number of Purchase by Date\")\n",
        "plt.xlabel('Month')\n",
        "plt.ylabel('QTY')\n",
        "plt.plot(sample_df)\n",
        "plt.show()"
      ],
      "metadata": {
        "id": "xgFh71FlESA9"
      },
      "execution_count": null,
      "outputs": []
    },
    {
      "cell_type": "markdown",
      "source": [
        "### <center> Rolling Statistics\n",
        "\n",
        "A rolling average is a great way to visualize how the dataset is trending. As the dataset provides counts by month, a window size of 12 will give the annual rolling average.\n",
        "\n",
        "this plot include the rolling standard deviation to see how much the data varies from the rolling average."
      ],
      "metadata": {
        "id": "TJd5KUlyHGmp"
      }
    },
    {
      "cell_type": "code",
      "source": [
        "#Determine rolling statistics\n",
        "sample_df[\"rolling_avg\"] = sample_df[\"qty\"].rolling(window = 12).mean() #window size 12 denotes 12 months, giving rolling mean at yearly level\n",
        "sample_df[\"rolling_std\"] = sample_df[\"qty\"].rolling(window = 12).std()\n",
        "\n",
        "#Plot rolling statistics\n",
        "plt.figure(figsize = (15, 7))\n",
        "plt.plot(sample_df[\"qty\"], color = '#379BDB', label = 'Original')\n",
        "plt.plot(sample_df[\"rolling_avg\"], color = '#D22A0D', label = 'Rolling Mean')\n",
        "plt.plot(sample_df[\"rolling_std\"], color = '#142039', label = 'Rolling Std')\n",
        "plt.legend(loc = 'best')\n",
        "plt.title('Rolling Mean & Standard Deviation')\n",
        "plt.show(block = False)"
      ],
      "metadata": {
        "id": "TDHjNUv8GDxE"
      },
      "execution_count": null,
      "outputs": []
    },
    {
      "cell_type": "markdown",
      "source": [
        "### <center>SARIMA Model Selection</center>\n",
        "\n",
        "Now let's try the same strategy as above, except let's use a SARIMA model so that can be account for seasonality."
      ],
      "metadata": {
        "id": "a8rGu42gJg99"
      }
    },
    {
      "cell_type": "code",
      "source": [
        "# sample_df = pivot.T[sample_sku].reset_index()\n",
        "# sample_df.drop(sample_df.tail(1).index, inplace=True)\n",
        "# sample_df.columns = ['month', 'qty']\n",
        "# sample_df['month'] = pd.to_datetime(sample_df['month'], infer_datetime_format = True)\n",
        "# sample_df = sample_df.set_index(['month'])\n",
        "# sample_df"
      ],
      "metadata": {
        "id": "dxZmBAxENphk"
      },
      "execution_count": null,
      "outputs": []
    },
    {
      "cell_type": "code",
      "source": [
        "# result = seasonal_decompose(sample_df, model='additive', extrapolate_trend='freq', period=3)\n",
        "result = seasonal_decompose(sample_df, period=3)\n",
        "fig = plt.figure()\n",
        "fig = result.plot()"
      ],
      "metadata": {
        "id": "1ZfGxaUmNj0Y"
      },
      "execution_count": null,
      "outputs": []
    },
    {
      "cell_type": "code",
      "source": [
        "result = adfuller(sample_df.qty.dropna())\n",
        "print(f'ADF Statistics:{result[0]}')\n",
        "print(f'p-value:{result[1]}')"
      ],
      "metadata": {
        "id": "dEuwf3PhOCeb"
      },
      "execution_count": null,
      "outputs": []
    },
    {
      "cell_type": "markdown",
      "source": [
        "The p-value is higher than 0.05. This means that the time serie is non stationary with a confidence of 95%. Then check if with a one step differentiation, the time serie become stationary (in terms of a trendless time series)."
      ],
      "metadata": {
        "id": "p7BTbUsoOMgE"
      }
    },
    {
      "cell_type": "code",
      "source": [
        "result2 = adfuller(sample_df.qty.diff().dropna())\n",
        "print(f'ADF Statistics:{result2[0]}')\n",
        "print(f'p-value:{result2[1]}')"
      ],
      "metadata": {
        "id": "R72W72hLOCbv"
      },
      "execution_count": null,
      "outputs": []
    },
    {
      "cell_type": "code",
      "source": [
        "# @title ACF and PACF\n",
        "\n",
        "fig, (ax1, ax2) = plt.subplots(2, 1, figsize = (8, 8))\n",
        "\n",
        "plot_acf(sample_df, lags = 7, zero = False, ax = ax1)\n",
        "plot_pacf(sample_df, lags = 7, zero = False, ax = ax2)\n",
        "plt.show()"
      ],
      "metadata": {
        "id": "m7MT1sD2OCYv"
      },
      "execution_count": null,
      "outputs": []
    },
    {
      "cell_type": "code",
      "source": [
        "# Seasonal - fit stepwise auto-ARIMA\n",
        "SARIMA_model = pm.auto_arima(sample_df, start_p = 1, start_q = 1,\n",
        "                        max_p = 3, max_q = 3,\n",
        "                        m = 6, # 6 is the half frequncy of the cycle\n",
        "                        seasonal = True, # set to seasonal\n",
        "                        d = 1,\n",
        "                        D = 1, # order of the seasonal differencing\n",
        "                        trace = True,\n",
        "                        error_action = 'ignore',\n",
        "                        start_P = 1, start_Q = 1,\n",
        "                        max_P = 2, max_Q = 2,\n",
        "                        information_criterion = 'aic',\n",
        "                        stepwise = True)"
      ],
      "metadata": {
        "id": "lml33QRpOCVV"
      },
      "execution_count": null,
      "outputs": []
    },
    {
      "cell_type": "markdown",
      "source": [
        "### SARIMA (0,1,1)(0,1,0) [6] : AIC=191.035"
      ],
      "metadata": {
        "id": "4-ccdhqKYhWs"
      }
    },
    {
      "cell_type": "code",
      "source": [
        "model = SARIMAX(sample_df.astype(float), order = (0, 1, 1), seasonal_order = (0, 1, 0, 6))\n",
        "SARIMA_model = model.fit()"
      ],
      "metadata": {
        "id": "C_ZcWnWrOCQl"
      },
      "execution_count": null,
      "outputs": []
    },
    {
      "cell_type": "code",
      "source": [
        "SARIMA_model.summary()"
      ],
      "metadata": {
        "id": "dqDvaVRNOCGn"
      },
      "execution_count": null,
      "outputs": []
    },
    {
      "cell_type": "code",
      "source": [
        "# @title Create the 4 diagostics plots\n",
        "SARIMA_model.plot_diagnostics(figsize = (8, 8))\n",
        "plt.show()"
      ],
      "metadata": {
        "cellView": "form",
        "id": "AmhDDANvRJIV"
      },
      "execution_count": null,
      "outputs": []
    },
    {
      "cell_type": "code",
      "source": [
        "# All the 4 plots indicates a good fit of the SARIMA model on the given time serie.\n",
        "# Create a vector that will host the predictions\n",
        "prediction = SARIMA_model.get_prediction(start = -12)\n",
        "mean_prediction = prediction.predicted_mean\n",
        "mean_prediction = mean_prediction.rename(\"prediction\")"
      ],
      "metadata": {
        "id": "S1gbZBxBRJFt"
      },
      "execution_count": null,
      "outputs": []
    },
    {
      "cell_type": "code",
      "source": [
        "# Get the confidence intervals from the sarima prediction\n",
        "confi_int_p = prediction.conf_int()\n",
        "lower_limits_p = confi_int_p.iloc[:, 0]\n",
        "upper_limits_p = confi_int_p.iloc[:, 1]"
      ],
      "metadata": {
        "id": "oSuWzImaRJCt"
      },
      "execution_count": null,
      "outputs": []
    },
    {
      "cell_type": "code",
      "source": [
        "plt.figure(figsize = (14, 5))\n",
        "plt.title(\"Purchase prediction by SARIMA\", fontsize = 25)\n",
        "\n",
        "plt.plot(sample_df[-24:].index, sample_df[-24:].values, label = 'Actual values', color = \"blue\", marker = \"o\")\n",
        "\n",
        "plt.plot(mean_prediction[-24:].index, mean_prediction[-24:].values, label = 'Prediction', color = \"green\", marker = \"o\")\n",
        "plt.fill_between(mean_prediction[-24:].index, lower_limits_p, upper_limits_p, alpha = 0.1, color = \"green\")\n",
        "\n",
        "plt.legend(fontsize = 12, fancybox = True, shadow = True, frameon = True)\n",
        "plt.ylabel('QTY', fontsize = 15)\n",
        "plt.show()"
      ],
      "metadata": {
        "id": "QrB1_vYTRI_i"
      },
      "execution_count": null,
      "outputs": []
    },
    {
      "cell_type": "code",
      "source": [
        "mape_sarima = mape(sample_df.iloc[-12:, 0], mean_prediction)\n",
        "print(f\"MAPE OF LSTM MODEL : {mape_sarima:.2f} %\")"
      ],
      "metadata": {
        "id": "ZHaCgevNRI7i"
      },
      "execution_count": null,
      "outputs": []
    },
    {
      "cell_type": "code",
      "source": [
        "rmse_sarima = sqrt(mean_squared_error(sample_df[-12:].values, mean_prediction.values))\n",
        "print(f\"RMSE OF LSTM MODEL : {rmse_sarima:.2f}\")"
      ],
      "metadata": {
        "id": "BGucXGd8R73L"
      },
      "execution_count": null,
      "outputs": []
    },
    {
      "cell_type": "markdown",
      "source": [
        "### SARIMA(0,1,2)(0,1,0) [6] : AIC=191.828"
      ],
      "metadata": {
        "id": "BlhorToNYoW6"
      }
    },
    {
      "cell_type": "code",
      "source": [
        "model = SARIMAX(sample_df.astype(float), order = (0, 1, 2), seasonal_order = (0, 1, 0, 6))\n",
        "SARIMA_model = model.fit()"
      ],
      "metadata": {
        "id": "OYyZGViQYsee"
      },
      "execution_count": null,
      "outputs": []
    },
    {
      "cell_type": "code",
      "source": [
        "SARIMA_model.summary()"
      ],
      "metadata": {
        "id": "OeW3JuJGYsbX"
      },
      "execution_count": null,
      "outputs": []
    },
    {
      "cell_type": "code",
      "source": [
        "# @title Create the 4 diagostics plots\n",
        "SARIMA_model.plot_diagnostics(figsize = (8, 8))\n",
        "plt.show()"
      ],
      "metadata": {
        "cellView": "form",
        "id": "3aFYURrhYsYV"
      },
      "execution_count": null,
      "outputs": []
    },
    {
      "cell_type": "code",
      "source": [
        "# All the 4 plots indicates a good fit of the SARIMA model on the given time serie.\n",
        "# Create a vector that will host the predictions\n",
        "prediction = SARIMA_model.get_prediction(start = -12)\n",
        "mean_prediction = prediction.predicted_mean\n",
        "mean_prediction = mean_prediction.rename(\"prediction\")"
      ],
      "metadata": {
        "id": "nhxkST2rYsVw"
      },
      "execution_count": null,
      "outputs": []
    },
    {
      "cell_type": "code",
      "source": [
        "# Get the confidence intervals from the sarima prediction\n",
        "confi_int_p = prediction.conf_int()\n",
        "lower_limits_p = confi_int_p.iloc[:, 0]\n",
        "upper_limits_p = confi_int_p.iloc[:, 1]"
      ],
      "metadata": {
        "id": "CHZF8DFgYsTP"
      },
      "execution_count": null,
      "outputs": []
    },
    {
      "cell_type": "code",
      "source": [
        "plt.figure(figsize = (14, 5))\n",
        "plt.title(\"Purchase prediction by SARIMA\", fontsize = 25)\n",
        "\n",
        "plt.plot(sample_df[-24:].index, sample_df[-24:].values, label = 'Actual values', color = \"blue\", marker = \"o\")\n",
        "\n",
        "plt.plot(mean_prediction[-24:].index, mean_prediction[-24:].values, label = 'Prediction', color = \"green\", marker = \"o\")\n",
        "plt.fill_between(mean_prediction[-24:].index, lower_limits_p, upper_limits_p, alpha = 0.1, color = \"green\")\n",
        "\n",
        "plt.legend(fontsize = 12, fancybox = True, shadow = True, frameon = True)\n",
        "plt.ylabel('QTY', fontsize = 15)\n",
        "plt.show()"
      ],
      "metadata": {
        "id": "8f9-2CnZYsQl"
      },
      "execution_count": null,
      "outputs": []
    },
    {
      "cell_type": "code",
      "source": [
        "mape_sarima = mape(sample_df.iloc[-12:, 0], mean_prediction)\n",
        "print(f\"MAPE OF LSTM MODEL : {mape_sarima:.2f} %\")"
      ],
      "metadata": {
        "id": "SJqavodBYsFc"
      },
      "execution_count": null,
      "outputs": []
    },
    {
      "cell_type": "code",
      "source": [
        "rmse_sarima = sqrt(mean_squared_error(sample_df[-12:].values, mean_prediction.values))\n",
        "print(f\"RMSE OF LSTM MODEL : {rmse_sarima:.2f}\")"
      ],
      "metadata": {
        "id": "yVNJExEYY8Y6"
      },
      "execution_count": null,
      "outputs": []
    },
    {
      "cell_type": "markdown",
      "source": [
        "# Results Sumamry"
      ],
      "metadata": {
        "id": "oVE2L33SS4Pf"
      }
    },
    {
      "cell_type": "markdown",
      "source": [
        "สรุปได้ว่าควรใช้\n",
        "Best model:  SARIMA(0,1,1)(0,1,0) [6] / SARIMA(0,1,2)(0,1,0) [6]\n",
        "สามารถทำ Seasonal ARIMA ได้\n",
        "แต่ข้อมูลมีน้อยกว่า 24 เดือน\n",
        "จึงควรปรับ Dataset ใหม่"
      ],
      "metadata": {
        "id": "mmRNDyIX1itg"
      }
    }
  ],
  "metadata": {
    "colab": {
      "provenance": [],
      "include_colab_link": true
    },
    "kernelspec": {
      "display_name": "Python 3",
      "name": "python3"
    },
    "language_info": {
      "codemirror_mode": {
        "name": "ipython",
        "version": 3
      },
      "file_extension": ".py",
      "mimetype": "text/x-python",
      "name": "python",
      "nbconvert_exporter": "python",
      "pygments_lexer": "ipython3",
      "version": "3.12.0"
    }
  },
  "nbformat": 4,
  "nbformat_minor": 0
}