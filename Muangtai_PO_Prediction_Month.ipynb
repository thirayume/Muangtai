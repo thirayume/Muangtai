{
  "cells": [
    {
      "cell_type": "markdown",
      "metadata": {
        "colab_type": "text",
        "id": "view-in-github"
      },
      "source": [
        "<a href=\"https://colab.research.google.com/github/thirayume/muangtai/blob/main/Muangtai_PO_Prediction.ipynb\" target=\"_parent\"><img src=\"https://colab.research.google.com/assets/colab-badge.svg\" alt=\"Open In Colab\"/></a>"
      ]
    },
    {
      "cell_type": "markdown",
      "metadata": {
        "id": "s3mas7LvTsym"
      },
      "source": [
        "### **V.2 - Muangtai Purchasing Prediction by Month**"
      ]
    },
    {
      "cell_type": "code",
      "execution_count": null,
      "metadata": {
        "cellView": "form",
        "id": "qCLrRhB_RtCJ"
      },
      "outputs": [],
      "source": [
        "# @title Define secrets\n",
        "\n",
        "from google.colab import userdata\n",
        "host = userdata.get('host')\n",
        "port = userdata.get('port')\n",
        "database = userdata.get('database')\n",
        "user = userdata.get('user')\n",
        "password = userdata.get('password')"
      ]
    },
    {
      "cell_type": "code",
      "execution_count": null,
      "metadata": {
        "cellView": "form",
        "id": "v7fvZYzJMbtb"
      },
      "outputs": [],
      "source": [
        "# @title Install dependencies (if need)\n",
        "\n",
        "!pip install psycopg2 pandas pmdarima"
      ]
    },
    {
      "cell_type": "code",
      "execution_count": null,
      "metadata": {
        "cellView": "form",
        "id": "yVSBixTwTtmR"
      },
      "outputs": [],
      "source": [
        "# @title Import dependencies\n",
        "\n",
        "import psycopg2\n",
        "\n",
        "from datetime import datetime\n",
        "\n",
        "import numpy as np\n",
        "import pandas as pd\n",
        "from pandas import plotting\n",
        "\n",
        "import matplotlib.pyplot as plt\n",
        "%matplotlib inline\n",
        "from matplotlib.pylab import rcParams\n",
        "import seaborn as sns\n",
        "\n",
        "import plotly as py\n",
        "import plotly.graph_objs as go\n",
        "py.offline.init_notebook_mode(connected = True)\n",
        "\n",
        "import fastai\n",
        "\n",
        "import warnings\n",
        "import os\n",
        "from pathlib import Path\n",
        "warnings.filterwarnings(\"ignore\")\n",
        "\n",
        "import torch\n",
        "import torch.nn as nn\n",
        "from torch.autograd import Variable\n",
        "\n",
        "import pmdarima as pm\n",
        "\n",
        "from statsmodels.tsa.statespace.sarimax import SARIMAX\n",
        "from statsmodels.tsa.seasonal import seasonal_decompose\n",
        "from statsmodels.tsa.stattools import adfuller\n",
        "from statsmodels.graphics.tsaplots import plot_acf, plot_pacf\n",
        "\n",
        "from sklearn.cluster import KMeans\n",
        "from sklearn.preprocessing import MinMaxScaler\n",
        "from sklearn.metrics import mean_squared_error\n",
        "\n",
        "from math import sqrt\n",
        "\n",
        "# plt.style.use('fivethirtyeight')\n",
        "plt.style.use(\"seaborn-whitegrid\")\n",
        "plt.rc(\"figure\", autolayout = True)\n",
        "plt.rc(\"axes\", labelweight = \"bold\", labelsize = \"large\", titleweight = \"bold\", titlesize = 12, titlepad = 10)"
      ]
    },
    {
      "cell_type": "code",
      "execution_count": null,
      "metadata": {
        "cellView": "form",
        "id": "JKVYx_oqXKxZ"
      },
      "outputs": [],
      "source": [
        "# @title Connect to the PostgreSQL database\n",
        "\n",
        "conn = psycopg2.connect(\n",
        "    host=host,\n",
        "    port=port,\n",
        "    database=database,\n",
        "    user=user,\n",
        "    password=password,\n",
        ")\n",
        "conn"
      ]
    },
    {
      "cell_type": "code",
      "execution_count": null,
      "metadata": {
        "cellView": "form",
        "id": "qAuWIZL0LUUK"
      },
      "outputs": [],
      "source": [
        "# @title Define a SQL to create a \"view_picking_list\" (if not found)\n",
        "\n",
        "sql = \"\"\"\n",
        "      -- STEP 1: create function \"multiply_hierarchy_unit_quantity function\"\n",
        "      CREATE OR REPLACE FUNCTION multiply_hierarchy_unit_quantity(start_stock_keeping_unit_id uuid)\n",
        "      RETURNS numeric AS $$\n",
        "      DECLARE is_base_unit bool = false;\n",
        "      DECLARE total numeric(12,8) = 1;\n",
        "      BEGIN\n",
        "\n",
        "          SELECT a.is_base_unit INTO is_base_unit FROM dim_stock_keeping_units a where a.id = start_stock_keeping_unit_id;\n",
        "\n",
        "          if is_base_unit then\n",
        "              SELECT 1 INTO total FROM dim_bill_of_materials where stock_keeping_unit_id = start_stock_keeping_unit_id;\n",
        "          else\n",
        "              WITH RECURSIVE unit_cte AS (\n",
        "                  SELECT stock_keeping_unit_id, part_id, multiplier\n",
        "                  FROM dim_bill_of_materials\n",
        "                  where stock_keeping_unit_id = start_stock_keeping_unit_id\n",
        "                  UNION ALL\n",
        "                  SELECT h.stock_keeping_unit_id, h.part_id, h.multiplier\n",
        "                  FROM dim_bill_of_materials h\n",
        "                  INNER JOIN unit_cte cte ON h.stock_keeping_unit_id = cte.part_id\n",
        "              )\n",
        "              SELECT product(multiplier) INTO total FROM unit_cte;\n",
        "          end if;\n",
        "          RETURN total;\n",
        "      END;\n",
        "      $$ LANGUAGE plpgsql;\n",
        "\n",
        "      -- Helper function to calculate product in a recursive query\n",
        "      CREATE AGGREGATE product(numeric) (\n",
        "          SFUNC = numeric_mul,\n",
        "          STYPE = numeric,\n",
        "          INITCOND = '1'\n",
        "      );\n",
        "\n",
        "      -- Multiplication function\n",
        "      CREATE OR REPLACE FUNCTION numeric_mul(numeric, numeric)\n",
        "      RETURNS numeric AS $$\n",
        "      BEGIN\n",
        "          RETURN $1 * $2;\n",
        "      END;\n",
        "      $$ LANGUAGE plpgsql;\n",
        "\n",
        "      ----------------------\n",
        "      -- STEP 2: Create view \"view_dim_picking_lists_lasted_updated_at\"\n",
        "      DROP VIEW IF EXISTS view_dim_picking_lists_lasted_updated_at;\n",
        "\n",
        "      CREATE OR REPLACE VIEW view_dim_picking_lists_lasted_updated_at\n",
        "      AS\n",
        "      select id,\n",
        "          CASE\n",
        "              WHEN a.document_date < (a.moderated_at::date)\n",
        "                  THEN (a.document_date + '08:30:01'::time)\n",
        "              -- IN CASE a.document_date >= a.moderated.date\n",
        "              WHEN a.moderated_at is null and a.document_date is not null\n",
        "                  THEN (a.document_date + '08:30:01'::time)\n",
        "              WHEN a.moderated_at is null and a.document_date is null\n",
        "                  THEN a.updated_at\n",
        "              ELSE a.moderated_at\n",
        "          END as date\n",
        "      from dim_picking_lists a\n",
        "      where moderation_status = 1;\n",
        "\n",
        "      ----------------------\n",
        "      -- create view \"view_fact_picking_lists\"\n",
        "      DROP VIEW IF EXISTS view_fact_picking_lists;\n",
        "\n",
        "      CREATE OR REPLACE VIEW view_fact_picking_lists\n",
        "      AS\n",
        "\n",
        "      select\n",
        "      fact_picking_lists.id as fact_picking_lists__id\n",
        "      ,to_char(view_dim_picking_lists_lasted_updated_at.date ::date, 'YYYY-MM-DD' ) as dim_pickinglists__document_date\n",
        "      ,to_char(view_dim_picking_lists_lasted_updated_at.date ::time, 'HH24:MI:SS' ) as dim_pickinglists__document_time\n",
        "      ,dim_picking_lists.document_number as dim_picking_lists__document_number\n",
        "      ,dim_picking_lists.id as dim_picking_lists__id\n",
        "      ,dim_stock_keeping_units.id as dim_stock_keeping_units__sku_id\n",
        "      ,fact_picking_lists.quantity as fact_picking_lists__quantity\n",
        "      , (fact_picking_lists.quantity  * multiply_hierarchy_unit_quantity(fact_picking_lists.stock_keeping_unit_id)) as liters\n",
        "      ,dim_families.is_alcoholic as dim_families__is_alcoholic\n",
        "      ,dim_picking_lists.owner_id as dim_picking_lists__owner_id\n",
        "      ,dim_picking_lists.owner_type as dim_picking_lists__owner_type\n",
        "      from\t\tfact_picking_lists\n",
        "      inner join\tdim_dates on dim_dates.id = fact_picking_lists.date_id\n",
        "      inner join\tdim_times on dim_times.id = fact_picking_lists.time_id\n",
        "      inner join\tdim_families on dim_families.id = fact_picking_lists.family_id\n",
        "      inner join\tdim_brands on dim_brands.id = dim_families.brand_id\n",
        "      inner join \tdim_picking_lists on dim_picking_lists.id = fact_picking_lists.picking_list_id\n",
        "      inner join \tdim_stock_keeping_units on dim_stock_keeping_units.id = fact_picking_lists.stock_keeping_unit_id\n",
        "      inner join  view_dim_picking_lists_lasted_updated_at on dim_picking_lists.id = view_dim_picking_lists_lasted_updated_at.id\n",
        "      where fact_picking_lists.deleted_at is null\n",
        "      and dim_picking_lists.moderation_status = 1 -- Approved\n",
        "      and fact_picking_lists.direction = 'outbound'\n",
        "      order by  fact_picking_lists.id desc;\n",
        "      \"\"\""
      ]
    },
    {
      "cell_type": "code",
      "execution_count": null,
      "metadata": {
        "cellView": "form",
        "id": "hSXEpMKPM80g"
      },
      "outputs": [],
      "source": [
        "# @title Define a SQL query to select data from a \"fact_picking_lists\" like in a View\n",
        "\n",
        "sql = \"\"\"\n",
        "      select * from view_fact_picking_lists;\n",
        "      \"\"\""
      ]
    },
    {
      "cell_type": "code",
      "execution_count": null,
      "metadata": {
        "cellView": "form",
        "id": "wOhGs_GMTsO8"
      },
      "outputs": [],
      "source": [
        "# @title Create a cursor object to execute queries to dataframe\n",
        "\n",
        "with conn.cursor() as cursor:\n",
        "  # Execute the query\n",
        "  cursor.execute(sql)\n",
        "  columns = [desc[0] for desc in cursor.description]\n",
        "  # Fetch all rows from the query result\n",
        "  rows = cursor.fetchall()\n",
        "\n",
        "  # Create dataframe\n",
        "  df = pd.DataFrame(rows, columns=columns)"
      ]
    },
    {
      "cell_type": "code",
      "execution_count": null,
      "metadata": {
        "cellView": "form",
        "id": "8gLq9FPLUyK5"
      },
      "outputs": [],
      "source": [
        "# @title Close the connection\n",
        "conn.close()"
      ]
    },
    {
      "cell_type": "code",
      "execution_count": null,
      "metadata": {
        "cellView": "form",
        "id": "KsY_2VphWH8a"
      },
      "outputs": [],
      "source": [
        "# @title Format Date and Time and Index\n",
        "\n",
        "df['fact_picking_lists__podatetime'] = pd.to_datetime( df['fact_picking_lists__date']  + ' ' + df['fact_picking_lists__time'], infer_datetime_format=True)\n",
        "df['lasted_updated_at'] = pd.to_datetime(df['lasted_updated_at'], infer_datetime_format = True)\n",
        "df['fact_picking_lists__date'] = pd.to_datetime(df['lasted_updated_at'], infer_datetime_format = True)"
      ]
    },
    {
      "cell_type": "code",
      "execution_count": null,
      "metadata": {
        "id": "rVhpSeaReucL"
      },
      "outputs": [],
      "source": [
        "df = df.loc[:, ~df.columns.str.contains('^Unnamed')]"
      ]
    },
    {
      "cell_type": "code",
      "execution_count": null,
      "metadata": {
        "id": "_KjaBmhcSQ3j"
      },
      "outputs": [],
      "source": [
        "df.head(5)"
      ]
    },
    {
      "cell_type": "code",
      "execution_count": null,
      "metadata": {
        "id": "02b_k67hQQqp"
      },
      "outputs": [],
      "source": [
        "df.describe()"
      ]
    },
    {
      "cell_type": "code",
      "execution_count": null,
      "metadata": {
        "id": "INSprVuVcIbK"
      },
      "outputs": [],
      "source": [
        "df.info()"
      ]
    },
    {
      "cell_type": "code",
      "execution_count": null,
      "metadata": {
        "id": "vGXouqfCdGbY"
      },
      "outputs": [],
      "source": [
        "df.isnull().sum()"
      ]
    },
    {
      "cell_type": "code",
      "execution_count": null,
      "metadata": {
        "id": "MBjSQLFegUh2"
      },
      "outputs": [],
      "source": [
        "sku_ids = df['dim_stock_keeping_units__sku_id'].unique()\n",
        "print(sorted(sku_ids))"
      ]
    },
    {
      "cell_type": "code",
      "execution_count": null,
      "metadata": {
        "id": "j8V_9vdqhgsH"
      },
      "outputs": [],
      "source": [
        "# @title Pivot SKU Sales by Month\n",
        "pd.set_option(\"display.float_format\", \"{:,.0f}\".format)\n",
        "\n",
        "# df['month'] = df['fact_picking_lists__date'].dt.month.astype(str) + '-' + df['fact_picking_lists__date'].dt.year.astype(str)\n",
        "# df['month'] = df['fact_picking_lists__podatetime'].dt.month.astype(str) + '-' + df['fact_picking_lists__podatetime'].dt.year.astype(str)\n",
        "df['month'] = df['lasted_updated_at'].dt.month.astype(str) + '-' + df['lasted_updated_at'].dt.year.astype(str)\n",
        "df['month'] = pd.to_datetime(df['month'], infer_datetime_format = True)\n",
        "\n",
        "pivot = df.pivot_table(\n",
        "    values='fact_picking_lists__quantity',\n",
        "    index=['dim_stock_keeping_units__sku_id'],\n",
        "    columns=['month'],\n",
        "    aggfunc='sum',\n",
        "    margins = True,\n",
        "    fill_value = '0'\n",
        ")\n",
        "pivot = pivot.sort_values(by=['All'], ascending=False)\n",
        "pivot"
      ]
    },
    {
      "cell_type": "code",
      "execution_count": null,
      "metadata": {
        "id": "5Et1O93234sp"
      },
      "outputs": [],
      "source": [
        "pivot.T"
      ]
    },
    {
      "cell_type": "code",
      "execution_count": null,
      "metadata": {
        "id": "KVsoBK1V956q"
      },
      "outputs": [],
      "source": [
        "sorted_sku = []\n",
        "for sku, qty in pivot.iterrows():\n",
        "  sorted_sku.append(sku)\n",
        "sorted_sku.pop(0)"
      ]
    },
    {
      "cell_type": "code",
      "execution_count": null,
      "metadata": {
        "id": "EbR8EruAu8mH"
      },
      "outputs": [],
      "source": [
        "def plot_by_SKUs(sku_df):\n",
        "  for i in range(len(sku_df)):\n",
        "    print(sku_df[i])\n",
        "    plt.figure(figsize=(6,3))\n",
        "    my_df = pivot.T[sku_df[i]]\n",
        "    my_df.drop(my_df.tail(1).index,inplace=True)\n",
        "    my_df.astype(float).plot()\n",
        "    plt.title(sku_df[i])\n",
        "    plt.tight_layout()\n",
        "    plt.show()"
      ]
    },
    {
      "cell_type": "code",
      "execution_count": null,
      "metadata": {
        "id": "oyNXx43WuO86"
      },
      "outputs": [],
      "source": [
        "sample = sorted_sku[0:1]\n",
        "plot_by_SKUs(sample)"
      ]
    },
    {
      "cell_type": "code",
      "execution_count": null,
      "metadata": {
        "id": "XeiemI-VUbBp"
      },
      "outputs": [],
      "source": [
        "def mape(actual, pred):\n",
        "    actual, pred = np.array(actual), np.array(pred)\n",
        "    return np.mean(np.abs((actual - pred) / actual)) * 100"
      ]
    },
    {
      "cell_type": "code",
      "execution_count": null,
      "metadata": {
        "id": "goKH50os2vAE"
      },
      "outputs": [],
      "source": [
        "sample_sku = sorted_sku[0:1]\n",
        "sample_sku"
      ]
    },
    {
      "cell_type": "code",
      "execution_count": null,
      "metadata": {
        "id": "_nrn94y8EcYW"
      },
      "outputs": [],
      "source": [
        "sample_df = pivot.T[sample_sku].reset_index()\n",
        "sample_df.drop(sample_df.tail(1).index, inplace=True)\n",
        "sample_df.columns = ['month', 'qty']\n",
        "sample_df['month'] = pd.to_datetime(sample_df['month'], infer_datetime_format = True)\n",
        "sample_df = sample_df.set_index(['month'])\n",
        "sample_df"
      ]
    },
    {
      "cell_type": "code",
      "execution_count": null,
      "metadata": {
        "id": "BWwT7t0LEPP2"
      },
      "outputs": [],
      "source": [
        "sample_df.info()"
      ]
    },
    {
      "cell_type": "code",
      "execution_count": null,
      "metadata": {
        "id": "xgFh71FlESA9"
      },
      "outputs": [],
      "source": [
        "plt.figure(figsize = (15, 7))\n",
        "plt.title(\"Number of Purchase by Date\")\n",
        "plt.xlabel('Month')\n",
        "plt.ylabel('QTY')\n",
        "plt.plot(sample_df)\n",
        "plt.show()"
      ]
    },
    {
      "cell_type": "markdown",
      "metadata": {
        "id": "TJd5KUlyHGmp"
      },
      "source": [
        "### <center> Rolling Statistics\n",
        "\n",
        "A rolling average is a great way to visualize how the dataset is trending. As the dataset provides counts by month, a window size of 12 will give the annual rolling average.\n",
        "\n",
        "this plot include the rolling standard deviation to see how much the data varies from the rolling average."
      ]
    },
    {
      "cell_type": "code",
      "execution_count": null,
      "metadata": {
        "id": "TDHjNUv8GDxE"
      },
      "outputs": [],
      "source": [
        "#Determine rolling statistics\n",
        "sample_df[\"rolling_avg\"] = sample_df[\"qty\"].rolling(window = 12).mean() #window size 12 denotes 12 months, giving rolling mean at yearly level\n",
        "sample_df[\"rolling_std\"] = sample_df[\"qty\"].rolling(window = 12).std()\n",
        "\n",
        "#Plot rolling statistics\n",
        "plt.figure(figsize = (15, 7))\n",
        "plt.plot(sample_df[\"qty\"], color = '#379BDB', label = 'Original')\n",
        "plt.plot(sample_df[\"rolling_avg\"], color = '#D22A0D', label = 'Rolling Mean')\n",
        "plt.plot(sample_df[\"rolling_std\"], color = '#142039', label = 'Rolling Std')\n",
        "plt.legend(loc = 'best')\n",
        "plt.title('Rolling Mean & Standard Deviation')\n",
        "plt.show(block = False)"
      ]
    },
    {
      "cell_type": "markdown",
      "metadata": {
        "id": "a8rGu42gJg99"
      },
      "source": [
        "### <center>SARIMA Model Selection</center>\n",
        "\n",
        "Now let's try the same strategy as above, except let's use a SARIMA model so that can be account for seasonality."
      ]
    },
    {
      "cell_type": "code",
      "execution_count": null,
      "metadata": {
        "id": "dxZmBAxENphk"
      },
      "outputs": [],
      "source": [
        "# sample_df = pivot.T[sample_sku].reset_index()\n",
        "# sample_df.drop(sample_df.tail(1).index, inplace=True)\n",
        "# sample_df.columns = ['month', 'qty']\n",
        "# sample_df['month'] = pd.to_datetime(sample_df['month'], infer_datetime_format = True)\n",
        "# sample_df = sample_df.set_index(['month'])\n",
        "# sample_df"
      ]
    },
    {
      "cell_type": "code",
      "execution_count": null,
      "metadata": {
        "id": "1ZfGxaUmNj0Y"
      },
      "outputs": [],
      "source": [
        "# result = seasonal_decompose(sample_df, model='additive', extrapolate_trend='freq', period=3)\n",
        "result = seasonal_decompose(sample_df, period=3)\n",
        "fig = plt.figure()\n",
        "fig = result.plot()"
      ]
    },
    {
      "cell_type": "code",
      "execution_count": null,
      "metadata": {
        "id": "dEuwf3PhOCeb"
      },
      "outputs": [],
      "source": [
        "result = adfuller(sample_df.qty.dropna())\n",
        "print(f'ADF Statistics:{result[0]}')\n",
        "print(f'p-value:{result[1]}')"
      ]
    },
    {
      "cell_type": "markdown",
      "metadata": {
        "id": "p7BTbUsoOMgE"
      },
      "source": [
        "The p-value is higher than 0.05. This means that the time serie is non stationary with a confidence of 95%. Then check if with a one step differentiation, the time serie become stationary (in terms of a trendless time series)."
      ]
    },
    {
      "cell_type": "code",
      "execution_count": null,
      "metadata": {
        "id": "R72W72hLOCbv"
      },
      "outputs": [],
      "source": [
        "result2 = adfuller(sample_df.qty.diff().dropna())\n",
        "print(f'ADF Statistics:{result2[0]}')\n",
        "print(f'p-value:{result2[1]}')"
      ]
    },
    {
      "cell_type": "code",
      "execution_count": null,
      "metadata": {
        "id": "m7MT1sD2OCYv"
      },
      "outputs": [],
      "source": [
        "# @title ACF and PACF\n",
        "\n",
        "fig, (ax1, ax2) = plt.subplots(2, 1, figsize = (8, 8))\n",
        "\n",
        "plot_acf(sample_df, lags = 7, zero = False, ax = ax1)\n",
        "plot_pacf(sample_df, lags = 7, zero = False, ax = ax2)\n",
        "plt.show()"
      ]
    },
    {
      "cell_type": "code",
      "execution_count": null,
      "metadata": {
        "id": "lml33QRpOCVV"
      },
      "outputs": [],
      "source": [
        "# Seasonal - fit stepwise auto-ARIMA\n",
        "SARIMA_model = pm.auto_arima(sample_df, start_p = 1, start_q = 1,\n",
        "                        max_p = 3, max_q = 3,\n",
        "                        m = 6, # 6 is the half frequncy of the cycle\n",
        "                        seasonal = True, # set to seasonal\n",
        "                        d = 1,\n",
        "                        D = 1, # order of the seasonal differencing\n",
        "                        trace = True,\n",
        "                        error_action = 'ignore',\n",
        "                        start_P = 1, start_Q = 1,\n",
        "                        max_P = 2, max_Q = 2,\n",
        "                        information_criterion = 'aic',\n",
        "                        stepwise = True)"
      ]
    },
    {
      "cell_type": "markdown",
      "metadata": {
        "id": "4-ccdhqKYhWs"
      },
      "source": [
        "### SARIMA (0,1,1)(0,1,0) [6] : AIC=191.035"
      ]
    },
    {
      "cell_type": "code",
      "execution_count": null,
      "metadata": {
        "id": "C_ZcWnWrOCQl"
      },
      "outputs": [],
      "source": [
        "model = SARIMAX(sample_df.astype(float), order = (0, 1, 1), seasonal_order = (0, 1, 0, 6))\n",
        "SARIMA_model = model.fit()"
      ]
    },
    {
      "cell_type": "code",
      "execution_count": null,
      "metadata": {
        "id": "dqDvaVRNOCGn"
      },
      "outputs": [],
      "source": [
        "SARIMA_model.summary()"
      ]
    },
    {
      "cell_type": "code",
      "execution_count": null,
      "metadata": {
        "cellView": "form",
        "id": "AmhDDANvRJIV"
      },
      "outputs": [],
      "source": [
        "# @title Create the 4 diagostics plots\n",
        "SARIMA_model.plot_diagnostics(figsize = (8, 8))\n",
        "plt.show()"
      ]
    },
    {
      "cell_type": "code",
      "execution_count": null,
      "metadata": {
        "id": "S1gbZBxBRJFt"
      },
      "outputs": [],
      "source": [
        "# All the 4 plots indicates a good fit of the SARIMA model on the given time serie.\n",
        "# Create a vector that will host the predictions\n",
        "prediction = SARIMA_model.get_prediction(start = -12)\n",
        "mean_prediction = prediction.predicted_mean\n",
        "mean_prediction = mean_prediction.rename(\"prediction\")"
      ]
    },
    {
      "cell_type": "code",
      "execution_count": null,
      "metadata": {
        "id": "oSuWzImaRJCt"
      },
      "outputs": [],
      "source": [
        "# Get the confidence intervals from the sarima prediction\n",
        "confi_int_p = prediction.conf_int()\n",
        "lower_limits_p = confi_int_p.iloc[:, 0]\n",
        "upper_limits_p = confi_int_p.iloc[:, 1]"
      ]
    },
    {
      "cell_type": "code",
      "execution_count": null,
      "metadata": {
        "id": "QrB1_vYTRI_i"
      },
      "outputs": [],
      "source": [
        "plt.figure(figsize = (14, 5))\n",
        "plt.title(\"Purchase prediction by SARIMA\", fontsize = 25)\n",
        "\n",
        "plt.plot(sample_df[-24:].index, sample_df[-24:].values, label = 'Actual values', color = \"blue\", marker = \"o\")\n",
        "\n",
        "plt.plot(mean_prediction[-24:].index, mean_prediction[-24:].values, label = 'Prediction', color = \"green\", marker = \"o\")\n",
        "plt.fill_between(mean_prediction[-24:].index, lower_limits_p, upper_limits_p, alpha = 0.1, color = \"green\")\n",
        "\n",
        "plt.legend(fontsize = 12, fancybox = True, shadow = True, frameon = True)\n",
        "plt.ylabel('QTY', fontsize = 15)\n",
        "plt.show()"
      ]
    },
    {
      "cell_type": "code",
      "execution_count": null,
      "metadata": {
        "id": "ZHaCgevNRI7i"
      },
      "outputs": [],
      "source": [
        "mape_sarima = mape(sample_df.iloc[-12:, 0], mean_prediction)\n",
        "print(f\"MAPE OF LSTM MODEL : {mape_sarima:.2f} %\")"
      ]
    },
    {
      "cell_type": "code",
      "execution_count": null,
      "metadata": {
        "id": "BGucXGd8R73L"
      },
      "outputs": [],
      "source": [
        "rmse_sarima = sqrt(mean_squared_error(sample_df[-12:].values, mean_prediction.values))\n",
        "print(f\"RMSE OF LSTM MODEL : {rmse_sarima:.2f}\")"
      ]
    },
    {
      "cell_type": "markdown",
      "metadata": {
        "id": "BlhorToNYoW6"
      },
      "source": [
        "### SARIMA(0,1,2)(0,1,0) [6] : AIC=191.828"
      ]
    },
    {
      "cell_type": "code",
      "execution_count": null,
      "metadata": {
        "id": "OYyZGViQYsee"
      },
      "outputs": [],
      "source": [
        "model = SARIMAX(sample_df.astype(float), order = (0, 1, 2), seasonal_order = (0, 1, 0, 6))\n",
        "SARIMA_model = model.fit()"
      ]
    },
    {
      "cell_type": "code",
      "execution_count": null,
      "metadata": {
        "id": "OeW3JuJGYsbX"
      },
      "outputs": [],
      "source": [
        "SARIMA_model.summary()"
      ]
    },
    {
      "cell_type": "code",
      "execution_count": null,
      "metadata": {
        "cellView": "form",
        "id": "3aFYURrhYsYV"
      },
      "outputs": [],
      "source": [
        "# @title Create the 4 diagostics plots\n",
        "SARIMA_model.plot_diagnostics(figsize = (8, 8))\n",
        "plt.show()"
      ]
    },
    {
      "cell_type": "code",
      "execution_count": null,
      "metadata": {
        "id": "nhxkST2rYsVw"
      },
      "outputs": [],
      "source": [
        "# All the 4 plots indicates a good fit of the SARIMA model on the given time serie.\n",
        "# Create a vector that will host the predictions\n",
        "prediction = SARIMA_model.get_prediction(start = -12)\n",
        "mean_prediction = prediction.predicted_mean\n",
        "mean_prediction = mean_prediction.rename(\"prediction\")"
      ]
    },
    {
      "cell_type": "code",
      "execution_count": null,
      "metadata": {
        "id": "CHZF8DFgYsTP"
      },
      "outputs": [],
      "source": [
        "# Get the confidence intervals from the sarima prediction\n",
        "confi_int_p = prediction.conf_int()\n",
        "lower_limits_p = confi_int_p.iloc[:, 0]\n",
        "upper_limits_p = confi_int_p.iloc[:, 1]"
      ]
    },
    {
      "cell_type": "code",
      "execution_count": null,
      "metadata": {
        "id": "8f9-2CnZYsQl"
      },
      "outputs": [],
      "source": [
        "plt.figure(figsize = (14, 5))\n",
        "plt.title(\"Purchase prediction by SARIMA\", fontsize = 25)\n",
        "\n",
        "plt.plot(sample_df[-24:].index, sample_df[-24:].values, label = 'Actual values', color = \"blue\", marker = \"o\")\n",
        "\n",
        "plt.plot(mean_prediction[-24:].index, mean_prediction[-24:].values, label = 'Prediction', color = \"green\", marker = \"o\")\n",
        "plt.fill_between(mean_prediction[-24:].index, lower_limits_p, upper_limits_p, alpha = 0.1, color = \"green\")\n",
        "\n",
        "plt.legend(fontsize = 12, fancybox = True, shadow = True, frameon = True)\n",
        "plt.ylabel('QTY', fontsize = 15)\n",
        "plt.show()"
      ]
    },
    {
      "cell_type": "code",
      "execution_count": null,
      "metadata": {
        "id": "SJqavodBYsFc"
      },
      "outputs": [],
      "source": [
        "mape_sarima = mape(sample_df.iloc[-12:, 0], mean_prediction)\n",
        "print(f\"MAPE OF LSTM MODEL : {mape_sarima:.2f} %\")"
      ]
    },
    {
      "cell_type": "code",
      "execution_count": null,
      "metadata": {
        "id": "yVNJExEYY8Y6"
      },
      "outputs": [],
      "source": [
        "rmse_sarima = sqrt(mean_squared_error(sample_df[-12:].values, mean_prediction.values))\n",
        "print(f\"RMSE OF LSTM MODEL : {rmse_sarima:.2f}\")"
      ]
    },
    {
      "cell_type": "markdown",
      "metadata": {
        "id": "oVE2L33SS4Pf"
      },
      "source": [
        "# Results Sumamry"
      ]
    },
    {
      "cell_type": "markdown",
      "metadata": {
        "id": "mmRNDyIX1itg"
      },
      "source": [
        "สรุปได้ว่าควรใช้\n",
        "Best model:  SARIMA(0,1,1)(0,1,0) [6] / SARIMA(0,1,2)(0,1,0) [6]\n",
        "สามารถทำ Seasonal ARIMA ได้\n",
        "แต่ข้อมูลมีน้อยกว่า 24 เดือน\n",
        "จึงควรปรับ Dataset ใหม่"
      ]
    }
  ],
  "metadata": {
    "colab": {
      "include_colab_link": true,
      "provenance": []
    },
    "kernelspec": {
      "display_name": "Python 3",
      "name": "python3"
    },
    "language_info": {
      "codemirror_mode": {
        "name": "ipython",
        "version": 3
      },
      "file_extension": ".py",
      "mimetype": "text/x-python",
      "name": "python",
      "nbconvert_exporter": "python",
      "pygments_lexer": "ipython3",
      "version": "3.12.0"
    }
  },
  "nbformat": 4,
  "nbformat_minor": 0
}
